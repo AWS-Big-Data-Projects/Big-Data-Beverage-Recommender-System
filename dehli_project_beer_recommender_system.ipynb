{
  "nbformat": 4,
  "nbformat_minor": 0,
  "metadata": {
    "kernelspec": {
      "display_name": "PySpark",
      "language": "",
      "name": "pysparkkernel"
    },
    "language_info": {
      "codemirror_mode": {
        "name": "python",
        "version": 3
      },
      "mimetype": "text/x-python",
      "name": "pyspark",
      "pygments_lexer": "python3"
    },
    "colab": {
      "name": "mbd-project-beer-recommender-system.ipynb",
      "provenance": [],
      "collapsed_sections": []
    }
  },
  "cells": [
    {
      "cell_type": "markdown",
      "metadata": {
        "id": "KY-y61R8fHvg"
      },
      "source": [
        "Step 1: Prior to uploading the data into pyspark, load the beerreviews.csv dataset into S3 bucket.  The csv can be downloaded from: https://www.kaggle.com/rdoume/beerreviews#__sid=js0"
      ]
    },
    {
      "cell_type": "code",
      "metadata": {
        "colab": {
          "referenced_widgets": [
            ""
          ]
        },
        "id": "GEv5QGqPfHvm",
        "outputId": "7a7809cf-4e28-4fc3-ba25-0c97d19f10ab"
      },
      "source": [
        "# Define a manual schema\n",
        "from pyspark.sql.types import StructField, StructType, StringType, LongType, IntegerType,DoubleType, DateType\n",
        "\n",
        "manual_schema = StructType([\n",
        "    # brewry id: unique identifier of brewery\n",
        "    StructField(\"brewery_id\", IntegerType(), True),\n",
        "    # name of each brewery\n",
        "    StructField(\"brewery_name\", StringType(), True),\n",
        "    # time of review in integer format\n",
        "    StructField(\"review_time\", IntegerType(), True),\n",
        "    # overall review of each beer on scale of 1-5\n",
        "    StructField(\"review_overall\", DoubleType(), True),\n",
        "    # review of beer aroma on a scale of 1-5\n",
        "    StructField(\"review_aroma\", DoubleType(), True),\n",
        "    # review of beer appearance on a scale of 1-5\n",
        "    StructField(\"review_appearance\", DoubleType(), True),\n",
        "    # profile name of reviewer - unique string\n",
        "    StructField(\"review_profilename\", StringType(), True),\n",
        "    # beer style (ex. IPA, lager, etc.)\n",
        "    StructField(\"beer_style\", StringType(), True),\n",
        "    # review of beer palate on scale of 1-5\n",
        "    StructField(\"review_palate\", DoubleType(), True),\n",
        "    # review of beer taste on scale of 1-5\n",
        "    StructField(\"review_taste\", DoubleType(), True),\n",
        "    # beer name - string\n",
        "    StructField(\"beer_name\", StringType(), True),\n",
        "    # ABV (alcohol by volume) of beer\n",
        "    StructField(\"beer_abv\", DoubleType(), True),\n",
        "    # beer id - unique identifier of beer being reviewed\n",
        "    StructField(\"beer_beerid\", IntegerType(), True)])"
      ],
      "execution_count": null,
      "outputs": [
        {
          "output_type": "stream",
          "text": [
            "Starting Spark application\n"
          ],
          "name": "stdout"
        },
        {
          "output_type": "display_data",
          "data": {
            "text/html": [
              "<table>\n",
              "<tr><th>ID</th><th>YARN Application ID</th><th>Kind</th><th>State</th><th>Spark UI</th><th>Driver log</th><th>Current session?</th></tr><tr><td>0</td><td>application_1605973483428_0001</td><td>pyspark</td><td>idle</td><td><a target=\"_blank\" href=\"http://ip-172-31-17-58.ec2.internal:20888/proxy/application_1605973483428_0001/\">Link</a></td><td><a target=\"_blank\" href=\"http://ip-172-31-25-97.ec2.internal:8042/node/containerlogs/container_1605973483428_0001_01_000001/livy\">Link</a></td><td>✔</td></tr></table>"
            ],
            "text/plain": [
              "<IPython.core.display.HTML object>"
            ]
          },
          "metadata": {
            "tags": []
          }
        },
        {
          "output_type": "display_data",
          "data": {
            "application/vnd.jupyter.widget-view+json": {
              "model_id": "",
              "version_major": 2,
              "version_minor": 0
            },
            "text/plain": [
              "FloatProgress(value=0.0, bar_style='info', description='Progress:', layout=Layout(height='25px', width='50%'),…"
            ]
          },
          "metadata": {
            "tags": []
          }
        },
        {
          "output_type": "stream",
          "text": [
            "SparkSession available as 'spark'.\n"
          ],
          "name": "stdout"
        },
        {
          "output_type": "display_data",
          "data": {
            "application/vnd.jupyter.widget-view+json": {
              "model_id": "",
              "version_major": 2,
              "version_minor": 0
            },
            "text/plain": [
              "FloatProgress(value=0.0, bar_style='info', description='Progress:', layout=Layout(height='25px', width='50%'),…"
            ]
          },
          "metadata": {
            "tags": []
          }
        }
      ]
    },
    {
      "cell_type": "code",
      "metadata": {
        "colab": {
          "referenced_widgets": [
            ""
          ]
        },
        "id": "UWE4JJ9rfHvn",
        "outputId": "f4e402c5-a7e0-4c4b-d251-a7df022a0c4d"
      },
      "source": [
        "# read in the data from S3 bucket\n",
        "# replace 's3://dehli-bigdata/beerreviews/beer_reviews.csv' with your own S3 bucket link\n",
        "beer = spark.read.format(\"csv\").schema(manual_schema).option(\"header\", \"true\").csv('s3://dehli-bigdata/beerreviews/beer_reviews.csv')"
      ],
      "execution_count": null,
      "outputs": [
        {
          "output_type": "display_data",
          "data": {
            "application/vnd.jupyter.widget-view+json": {
              "model_id": "",
              "version_major": 2,
              "version_minor": 0
            },
            "text/plain": [
              "FloatProgress(value=0.0, bar_style='info', description='Progress:', layout=Layout(height='25px', width='50%'),…"
            ]
          },
          "metadata": {
            "tags": []
          }
        }
      ]
    },
    {
      "cell_type": "code",
      "metadata": {
        "colab": {
          "referenced_widgets": [
            ""
          ]
        },
        "id": "rsBZcBfmfHvo",
        "outputId": "6a8c8d97-63e4-4d70-e3a8-24e482d86e86"
      },
      "source": [
        "# check that the schema was successful\n",
        "beer.printSchema()"
      ],
      "execution_count": null,
      "outputs": [
        {
          "output_type": "display_data",
          "data": {
            "application/vnd.jupyter.widget-view+json": {
              "model_id": "",
              "version_major": 2,
              "version_minor": 0
            },
            "text/plain": [
              "FloatProgress(value=0.0, bar_style='info', description='Progress:', layout=Layout(height='25px', width='50%'),…"
            ]
          },
          "metadata": {
            "tags": []
          }
        },
        {
          "output_type": "stream",
          "text": [
            "root\n",
            " |-- brewery_id: integer (nullable = true)\n",
            " |-- brewery_name: string (nullable = true)\n",
            " |-- review_time: integer (nullable = true)\n",
            " |-- review_overall: double (nullable = true)\n",
            " |-- review_aroma: double (nullable = true)\n",
            " |-- review_appearance: double (nullable = true)\n",
            " |-- review_profilename: string (nullable = true)\n",
            " |-- beer_style: string (nullable = true)\n",
            " |-- review_palate: double (nullable = true)\n",
            " |-- review_taste: double (nullable = true)\n",
            " |-- beer_name: string (nullable = true)\n",
            " |-- beer_abv: double (nullable = true)\n",
            " |-- beer_beerid: integer (nullable = true)"
          ],
          "name": "stdout"
        }
      ]
    },
    {
      "cell_type": "code",
      "metadata": {
        "colab": {
          "referenced_widgets": [
            ""
          ]
        },
        "id": "1dHSGIkqfHvo",
        "outputId": "2aff51b8-d535-42e5-8248-d3630c5f8f4d"
      },
      "source": [
        "# check out the first few rows\n",
        "beer.take(5)"
      ],
      "execution_count": null,
      "outputs": [
        {
          "output_type": "display_data",
          "data": {
            "application/vnd.jupyter.widget-view+json": {
              "model_id": "",
              "version_major": 2,
              "version_minor": 0
            },
            "text/plain": [
              "FloatProgress(value=0.0, bar_style='info', description='Progress:', layout=Layout(height='25px', width='50%'),…"
            ]
          },
          "metadata": {
            "tags": []
          }
        },
        {
          "output_type": "stream",
          "text": [
            "[Row(brewery_id=10325, brewery_name='Vecchio Birraio', review_time=1234817823, review_overall=1.5, review_aroma=2.0, review_appearance=2.5, review_profilename='stcules', beer_style='Hefeweizen', review_palate=1.5, review_taste=1.5, beer_name='Sausa Weizen', beer_abv=5.0, beer_beerid=47986), Row(brewery_id=10325, brewery_name='Vecchio Birraio', review_time=1235915097, review_overall=3.0, review_aroma=2.5, review_appearance=3.0, review_profilename='stcules', beer_style='English Strong Ale', review_palate=3.0, review_taste=3.0, beer_name='Red Moon', beer_abv=6.2, beer_beerid=48213), Row(brewery_id=10325, brewery_name='Vecchio Birraio', review_time=1235916604, review_overall=3.0, review_aroma=2.5, review_appearance=3.0, review_profilename='stcules', beer_style='Foreign / Export Stout', review_palate=3.0, review_taste=3.0, beer_name='Black Horse Black Beer', beer_abv=6.5, beer_beerid=48215), Row(brewery_id=10325, brewery_name='Vecchio Birraio', review_time=1234725145, review_overall=3.0, review_aroma=3.0, review_appearance=3.5, review_profilename='stcules', beer_style='German Pilsener', review_palate=2.5, review_taste=3.0, beer_name='Sausa Pils', beer_abv=5.0, beer_beerid=47969), Row(brewery_id=1075, brewery_name='Caldera Brewing Company', review_time=1293735206, review_overall=4.0, review_aroma=4.5, review_appearance=4.0, review_profilename='johnmichaelsen', beer_style='American Double / Imperial IPA', review_palate=4.0, review_taste=4.5, beer_name='Cauldron DIPA', beer_abv=7.7, beer_beerid=64883)]"
          ],
          "name": "stdout"
        }
      ]
    },
    {
      "cell_type": "code",
      "metadata": {
        "colab": {
          "referenced_widgets": [
            ""
          ]
        },
        "id": "_TBKAs2YfHvp",
        "outputId": "53cfe03a-8a35-4f0d-eaa2-4d0d8c64814c"
      },
      "source": [
        "# find number of partitions\n",
        "beer.rdd.getNumPartitions()"
      ],
      "execution_count": null,
      "outputs": [
        {
          "output_type": "display_data",
          "data": {
            "application/vnd.jupyter.widget-view+json": {
              "model_id": "",
              "version_major": 2,
              "version_minor": 0
            },
            "text/plain": [
              "FloatProgress(value=0.0, bar_style='info', description='Progress:', layout=Layout(height='25px', width='50%'),…"
            ]
          },
          "metadata": {
            "tags": []
          }
        },
        {
          "output_type": "stream",
          "text": [
            "2"
          ],
          "name": "stdout"
        }
      ]
    },
    {
      "cell_type": "code",
      "metadata": {
        "id": "WMwGCDNVfHvq"
      },
      "source": [
        "# This dataset is small enough that we don't need to increase the number of partitions.\n",
        "# If a company was continuing to grow this data, they could choose to repartition in the future."
      ],
      "execution_count": null,
      "outputs": []
    },
    {
      "cell_type": "code",
      "metadata": {
        "colab": {
          "referenced_widgets": [
            ""
          ]
        },
        "id": "kpHqHNA-fHvq",
        "outputId": "e8e2adc4-4e41-47cc-faf2-6c0d950e4ba0"
      },
      "source": [
        "# get summary statistics for some of the numerical variables\n",
        "dscr_cols = ['review_aroma', 'review_appearance', 'review_overall', 'review_palate', 'review_taste']\n",
        "beer.select(dscr_cols).describe().show()"
      ],
      "execution_count": null,
      "outputs": [
        {
          "output_type": "display_data",
          "data": {
            "application/vnd.jupyter.widget-view+json": {
              "model_id": "",
              "version_major": 2,
              "version_minor": 0
            },
            "text/plain": [
              "FloatProgress(value=0.0, bar_style='info', description='Progress:', layout=Layout(height='25px', width='50%'),…"
            ]
          },
          "metadata": {
            "tags": []
          }
        },
        {
          "output_type": "stream",
          "text": [
            "+-------+------------------+------------------+------------------+------------------+------------------+\n",
            "|summary|      review_aroma| review_appearance|    review_overall|     review_palate|      review_taste|\n",
            "+-------+------------------+------------------+------------------+------------------+------------------+\n",
            "|  count|           1586266|           1586266|           1586266|           1586266|           1586266|\n",
            "|   mean| 3.735685565976955|  3.84167125816225|3.8156280220341356|3.7437532544982997|3.7929209224682365|\n",
            "| stddev|0.6975674474672164|0.6160649705043265|0.7205948113732451| 0.682175283752888|0.7319121675111695|\n",
            "|    min|               1.0|               0.0|               0.0|               1.0|               1.0|\n",
            "|    max|               5.0|               5.0|               5.0|               5.0|               5.0|\n",
            "+-------+------------------+------------------+------------------+------------------+------------------+"
          ],
          "name": "stdout"
        }
      ]
    },
    {
      "cell_type": "code",
      "metadata": {
        "colab": {
          "referenced_widgets": [
            ""
          ]
        },
        "id": "_odFa5KSfHvq",
        "outputId": "a42e49af-c64f-4bd9-cd64-29ccb625d9f6"
      },
      "source": [
        "# use Spark SQL to generate insights\n",
        "from pyspark.sql import SQLContext\n",
        "sqlContext = SQLContext(sc)"
      ],
      "execution_count": null,
      "outputs": [
        {
          "output_type": "display_data",
          "data": {
            "application/vnd.jupyter.widget-view+json": {
              "model_id": "",
              "version_major": 2,
              "version_minor": 0
            },
            "text/plain": [
              "FloatProgress(value=0.0, bar_style='info', description='Progress:', layout=Layout(height='25px', width='50%'),…"
            ]
          },
          "metadata": {
            "tags": []
          }
        }
      ]
    },
    {
      "cell_type": "code",
      "metadata": {
        "colab": {
          "referenced_widgets": [
            ""
          ]
        },
        "id": "cUPcU1bqfHvr",
        "outputId": "6584b55d-fefd-4dac-bb72-c1a132b47d05"
      },
      "source": [
        "# read files into Spark SQL table\n",
        "beer.registerTempTable(\"beer\")"
      ],
      "execution_count": null,
      "outputs": [
        {
          "output_type": "display_data",
          "data": {
            "application/vnd.jupyter.widget-view+json": {
              "model_id": "",
              "version_major": 2,
              "version_minor": 0
            },
            "text/plain": [
              "FloatProgress(value=0.0, bar_style='info', description='Progress:', layout=Layout(height='25px', width='50%'),…"
            ]
          },
          "metadata": {
            "tags": []
          }
        }
      ]
    },
    {
      "cell_type": "markdown",
      "metadata": {
        "id": "n-WxL2nDfHvr"
      },
      "source": [
        "SQL Queries: Generating Insights"
      ]
    },
    {
      "cell_type": "code",
      "metadata": {
        "colab": {
          "referenced_widgets": [
            ""
          ]
        },
        "id": "OxpNhWX3fHvs",
        "outputId": "d813b656-a2e0-4a8e-cafd-f9bac95343f0"
      },
      "source": [
        "# Which beers have the highest ratings in the dataset?\n",
        "sqlContext.sql('SELECT beer_name, avg(review_overall) AS average_rating FROM beer GROUP BY beer_name ORDER BY average_rating DESC').limit(10).show()"
      ],
      "execution_count": null,
      "outputs": [
        {
          "output_type": "display_data",
          "data": {
            "application/vnd.jupyter.widget-view+json": {
              "model_id": "",
              "version_major": 2,
              "version_minor": 0
            },
            "text/plain": [
              "FloatProgress(value=0.0, bar_style='info', description='Progress:', layout=Layout(height='25px', width='50%'),…"
            ]
          },
          "metadata": {
            "tags": []
          }
        },
        {
          "output_type": "stream",
          "text": [
            "+--------------------+--------------+\n",
            "|           beer_name|average_rating|\n",
            "+--------------------+--------------+\n",
            "|      Moon Beam Blue|           5.0|\n",
            "|      Southern Belle|           5.0|\n",
            "|              Auburn|           5.0|\n",
            "|       Wexford Wheat|           5.0|\n",
            "|Suke Quto Coffee IPA|           5.0|\n",
            "+--------------------+--------------+"
          ],
          "name": "stdout"
        }
      ]
    },
    {
      "cell_type": "code",
      "metadata": {
        "colab": {
          "referenced_widgets": [
            ""
          ]
        },
        "id": "5duEbyJofHvs",
        "outputId": "07c0170d-93da-4c53-a1aa-8bc8f7090131"
      },
      "source": [
        "# it's possible some of these beers only have one or two ratings\n",
        "# let's filter by number of reviews > 1000 to avoid this problem\n",
        "sqlContext.sql('SELECT beer_name, ROUND(avg(review_overall),2) AS average_rating, count(*) AS num_reviews FROM beer GROUP BY beer_name HAVING num_reviews > 1000 ORDER BY average_rating DESC').limit(10).show()"
      ],
      "execution_count": null,
      "outputs": [
        {
          "output_type": "display_data",
          "data": {
            "application/vnd.jupyter.widget-view+json": {
              "model_id": "",
              "version_major": 2,
              "version_minor": 0
            },
            "text/plain": [
              "FloatProgress(value=0.0, bar_style='info', description='Progress:', layout=Layout(height='25px', width='50%'),…"
            ]
          },
          "metadata": {
            "tags": []
          }
        },
        {
          "output_type": "stream",
          "text": [
            "+--------------------+--------------+-----------+\n",
            "|           beer_name|average_rating|num_reviews|\n",
            "+--------------------+--------------+-----------+\n",
            "|Trappist Westvlet...|          4.62|       1272|\n",
            "|     Pliny The Elder|          4.59|       2527|\n",
            "|Weihenstephaner H...|          4.52|       1980|\n",
            "|           The Abyss|          4.45|       1412|\n",
            "|Sculpin India Pal...|          4.44|       1352|\n",
            "|        Supplication|          4.43|       1053|\n",
            "|Founders KBS (Ken...|           4.4|       1930|\n",
            "|Tröegs Nugget Nectar|           4.4|       1954|\n",
            "|         Gumballhead|           4.4|       1234|\n",
            "|  Bell's Hopslam Ale|          4.38|       2443|\n",
            "+--------------------+--------------+-----------+"
          ],
          "name": "stdout"
        }
      ]
    },
    {
      "cell_type": "code",
      "metadata": {
        "colab": {
          "referenced_widgets": [
            ""
          ]
        },
        "id": "t8HqT78HfHvt",
        "outputId": "01f492be-3067-4e9e-de75-747010439f74"
      },
      "source": [
        "# Which breweries have the most reviews?\n",
        "sqlContext.sql('SELECT brewery_name, count(*) AS num_reviews FROM beer GROUP BY brewery_name ORDER BY num_reviews DESC').limit(10).show()"
      ],
      "execution_count": null,
      "outputs": [
        {
          "output_type": "display_data",
          "data": {
            "application/vnd.jupyter.widget-view+json": {
              "model_id": "",
              "version_major": 2,
              "version_minor": 0
            },
            "text/plain": [
              "FloatProgress(value=0.0, bar_style='info', description='Progress:', layout=Layout(height='25px', width='50%'),…"
            ]
          },
          "metadata": {
            "tags": []
          }
        },
        {
          "output_type": "stream",
          "text": [
            "+--------------------+-----------+\n",
            "|        brewery_name|num_reviews|\n",
            "+--------------------+-----------+\n",
            "|Boston Beer Compa...|      39438|\n",
            "|Dogfish Head Brewery|      33829|\n",
            "|   Stone Brewing Co.|      33053|\n",
            "|Sierra Nevada Bre...|      28746|\n",
            "|Bell's Brewery, Inc.|      25189|\n",
            "|          Rogue Ales|      24079|\n",
            "|Founders Brewing ...|      20000|\n",
            "|Victory Brewing C...|      19473|\n",
            "|Lagunitas Brewing...|      16832|\n",
            "|Avery Brewing Com...|      16105|\n",
            "+--------------------+-----------+"
          ],
          "name": "stdout"
        }
      ]
    },
    {
      "cell_type": "code",
      "metadata": {
        "colab": {
          "referenced_widgets": [
            ""
          ]
        },
        "id": "MvGHcRcXfHvt",
        "outputId": "3ca8f2cf-910a-421a-88cb-37e8b109e36b"
      },
      "source": [
        "# Seeing that Boston Beer Company has the highest number of reviews, \n",
        "#let's find which beers they have in the dataset and their average reviews for each review category\n",
        "# ordered by average overall review\n",
        "sqlContext.sql(\"SELECT beer_name, ROUND(avg(review_overall),2) AS average_overall, ROUND(avg(review_aroma),2) AS average_aroma, ROUND(avg(review_appearance),2) AS average_appearance, ROUND(avg(review_taste),2) AS average_taste FROM beer WHERE brewery_name LIKE 'Boston Beer Company%' GROUP BY beer_name ORDER BY average_overall DESC\").show()"
      ],
      "execution_count": null,
      "outputs": [
        {
          "output_type": "display_data",
          "data": {
            "application/vnd.jupyter.widget-view+json": {
              "model_id": "",
              "version_major": 2,
              "version_minor": 0
            },
            "text/plain": [
              "FloatProgress(value=0.0, bar_style='info', description='Progress:', layout=Layout(height='25px', width='50%'),…"
            ]
          },
          "metadata": {
            "tags": []
          }
        },
        {
          "output_type": "stream",
          "text": [
            "+--------------------+---------------+-------------+------------------+-------------+\n",
            "|           beer_name|average_overall|average_aroma|average_appearance|average_taste|\n",
            "+--------------------+---------------+-------------+------------------+-------------+\n",
            "|Samuel Adams Mill...|           4.57|         4.57|              4.02|         4.57|\n",
            "|Samuel Adams Riva...|            4.5|          3.5|               4.0|          4.0|\n",
            "|      Holiday Kölsch|            4.5|          2.5|               4.0|          4.0|\n",
            "|Samuel Adams Hell...|            4.5|         3.75|              3.75|          4.0|\n",
            "|Samuel Adams Crea...|            4.5|          4.0|               4.5|          4.5|\n",
            "|Samuel Adams New ...|            4.5|          4.0|               3.5|          4.5|\n",
            "|              Koggen|            4.5|          3.0|               4.0|          5.0|\n",
            "|  Samuel Adams Stout|           4.25|          3.5|              3.75|          4.5|\n",
            "|Sam Adam's 11th A...|           4.25|          4.0|               4.0|         4.25|\n",
            "| Samuel Adams Weizen|           4.25|          4.0|               4.0|          4.0|\n",
            "|Samuel Adams Dark...|           4.25|          4.0|               4.0|          4.0|\n",
            "|Samuel Adams Choc...|            4.2|          3.9|               3.9|          4.3|\n",
            "|Samuel Adams 3 We...|            4.2|         4.35|               4.2|          4.4|\n",
            "|Union Oyster Hous...|           4.14|          3.5|              3.79|         3.79|\n",
            "|Samuel Adams Nobl...|           4.12|         3.79|              3.89|         3.94|\n",
            "|Samuel Adams Samp...|           4.09|         3.86|              4.05|         4.05|\n",
            "|Samuel Adams Utopias|           4.07|         4.45|               4.2|         4.47|\n",
            "|Samuel Adams Bost...|           4.04|         3.66|              3.89|         3.87|\n",
            "|LongShot Dortmund...|           4.03|          3.6|              3.89|         3.85|\n",
            "|Samuel Adams Samp...|            4.0|         3.75|              3.88|         3.94|\n",
            "+--------------------+---------------+-------------+------------------+-------------+\n",
            "only showing top 20 rows"
          ],
          "name": "stdout"
        }
      ]
    },
    {
      "cell_type": "markdown",
      "metadata": {
        "id": "kMQFdxkvfHvu"
      },
      "source": [
        "Visualizations\n",
        "\n",
        "To be able to use Python libraries like Seaborn, type the following command into the shell:\n",
        "sudo python3.7 -m pip install seaborn"
      ]
    },
    {
      "cell_type": "code",
      "metadata": {
        "colab": {
          "referenced_widgets": [
            ""
          ]
        },
        "id": "U-tP69QWfHvu",
        "outputId": "b1463105-c71a-4eed-bfca-29c1174add15"
      },
      "source": [
        "# import seaborn library for plotting\n",
        "import seaborn as sns\n",
        "import pandas as pd\n",
        "import matplotlib.pyplot as plt\n",
        "import numpy as np"
      ],
      "execution_count": null,
      "outputs": [
        {
          "output_type": "display_data",
          "data": {
            "application/vnd.jupyter.widget-view+json": {
              "model_id": "",
              "version_major": 2,
              "version_minor": 0
            },
            "text/plain": [
              "FloatProgress(value=0.0, bar_style='info', description='Progress:', layout=Layout(height='25px', width='50%'),…"
            ]
          },
          "metadata": {
            "tags": []
          }
        }
      ]
    },
    {
      "cell_type": "code",
      "metadata": {
        "colab": {
          "referenced_widgets": [
            ""
          ]
        },
        "id": "eN40LeMYfHvv",
        "outputId": "edeedb0e-6054-4d42-e804-8ec92e76dd69"
      },
      "source": [
        "# create pandas dataframe from Spark dataframe to ensure compatibility with seaborn\n",
        "beer_df = beer.toPandas()"
      ],
      "execution_count": null,
      "outputs": [
        {
          "output_type": "display_data",
          "data": {
            "application/vnd.jupyter.widget-view+json": {
              "model_id": "",
              "version_major": 2,
              "version_minor": 0
            },
            "text/plain": [
              "FloatProgress(value=0.0, bar_style='info', description='Progress:', layout=Layout(height='25px', width='50%'),…"
            ]
          },
          "metadata": {
            "tags": []
          }
        }
      ]
    },
    {
      "cell_type": "code",
      "metadata": {
        "colab": {
          "referenced_widgets": [
            ""
          ]
        },
        "id": "iHFqSSm0fHvv",
        "outputId": "74467c1a-e2b2-442e-a643-0ef381f84686"
      },
      "source": [
        "beer_df.head()"
      ],
      "execution_count": null,
      "outputs": [
        {
          "output_type": "display_data",
          "data": {
            "application/vnd.jupyter.widget-view+json": {
              "model_id": "",
              "version_major": 2,
              "version_minor": 0
            },
            "text/plain": [
              "FloatProgress(value=0.0, bar_style='info', description='Progress:', layout=Layout(height='25px', width='50%'),…"
            ]
          },
          "metadata": {
            "tags": []
          }
        },
        {
          "output_type": "stream",
          "text": [
            "   brewery_id             brewery_name  ...  beer_beerid  user_id\n",
            "0       10325          Vecchio Birraio  ...        47986     72.0\n",
            "1       10325          Vecchio Birraio  ...        48213     72.0\n",
            "2       10325          Vecchio Birraio  ...        48215     72.0\n",
            "3       10325          Vecchio Birraio  ...        47969     72.0\n",
            "4        1075  Caldera Brewing Company  ...        64883     47.0\n",
            "\n",
            "[5 rows x 14 columns]"
          ],
          "name": "stdout"
        }
      ]
    },
    {
      "cell_type": "code",
      "metadata": {
        "colab": {
          "referenced_widgets": [
            ""
          ]
        },
        "id": "ObFPpF25fHvv",
        "outputId": "7b3ad1b8-43a2-43d5-9115-17832f86aa05"
      },
      "source": [
        "# create a plot for the distriibution of beer reviews overall\n",
        "plt.clf()\n",
        "plt.figure(figsize=(20,10))\n",
        "plt.style.use('classic')\n",
        "plt.hist(beer_df.review_overall, bins=10)\n",
        "plt.title('Distribution of Overall Reviews')\n",
        "plt.xlabel('Review')\n",
        "plt.ylabel('Count')\n",
        "plt.show()"
      ],
      "execution_count": null,
      "outputs": [
        {
          "output_type": "display_data",
          "data": {
            "application/vnd.jupyter.widget-view+json": {
              "model_id": "",
              "version_major": 2,
              "version_minor": 0
            },
            "text/plain": [
              "FloatProgress(value=0.0, bar_style='info', description='Progress:', layout=Layout(height='25px', width='50%'),…"
            ]
          },
          "metadata": {
            "tags": []
          }
        }
      ]
    },
    {
      "cell_type": "code",
      "metadata": {
        "colab": {
          "referenced_widgets": [
            ""
          ]
        },
        "id": "4pkfBTvNfHvw",
        "outputId": "4acfcbd6-677c-4aa7-af74-fb5e24b0dcc2"
      },
      "source": [
        "%matplot plt"
      ],
      "execution_count": null,
      "outputs": [
        {
          "output_type": "display_data",
          "data": {
            "application/vnd.jupyter.widget-view+json": {
              "model_id": "",
              "version_major": 2,
              "version_minor": 0
            },
            "text/plain": [
              "FloatProgress(value=0.0, bar_style='info', description='Progress:', layout=Layout(height='25px', width='50%'),…"
            ]
          },
          "metadata": {
            "tags": []
          }
        },
        {
          "output_type": "display_data",
          "data": {
            "image/png": "[encoded data removed]",
            "text/plain": [
              "<IPython.core.display.Image object>"
            ]
          },
          "metadata": {
            "tags": []
          }
        }
      ]
    },
    {
      "cell_type": "code",
      "metadata": {
        "colab": {
          "referenced_widgets": [
            ""
          ]
        },
        "id": "T4ipWasEfHvw",
        "outputId": "a70f86f1-9da5-4b70-aa43-2a52dd454173"
      },
      "source": [
        "# Create a plot for distribution of reviews for aroma\n",
        "plt.clf()\n",
        "plt.figure(figsize=(20,10))\n",
        "plt.style.use('classic')\n",
        "plt.hist(beer_df.review_aroma, bins=10)\n",
        "plt.title('Distribution of Aroma Reviews')\n",
        "plt.xlabel('Review')\n",
        "plt.ylabel('Count')\n",
        "plt.show()"
      ],
      "execution_count": null,
      "outputs": [
        {
          "output_type": "display_data",
          "data": {
            "application/vnd.jupyter.widget-view+json": {
              "model_id": "",
              "version_major": 2,
              "version_minor": 0
            },
            "text/plain": [
              "FloatProgress(value=0.0, bar_style='info', description='Progress:', layout=Layout(height='25px', width='50%'),…"
            ]
          },
          "metadata": {
            "tags": []
          }
        }
      ]
    },
    {
      "cell_type": "code",
      "metadata": {
        "colab": {
          "referenced_widgets": [
            ""
          ]
        },
        "id": "nCZ2rgHVfHvx",
        "outputId": "a5392e01-6386-440d-d79e-df15c17ae18f"
      },
      "source": [
        "%matplot plt"
      ],
      "execution_count": null,
      "outputs": [
        {
          "output_type": "display_data",
          "data": {
            "application/vnd.jupyter.widget-view+json": {
              "model_id": "",
              "version_major": 2,
              "version_minor": 0
            },
            "text/plain": [
              "FloatProgress(value=0.0, bar_style='info', description='Progress:', layout=Layout(height='25px', width='50%'),…"
            ]
          },
          "metadata": {
            "tags": []
          }
        },
        {
          "output_type": "display_data",
          "data": {
            "image/png": "[encoded data removed]",
            "text/plain": [
              "<IPython.core.display.Image object>"
            ]
          },
          "metadata": {
            "tags": []
          }
        }
      ]
    },
    {
      "cell_type": "code",
      "metadata": {
        "colab": {
          "referenced_widgets": [
            ""
          ]
        },
        "id": "FYYpSYL8fHvx",
        "outputId": "0db36758-c116-487a-9dce-fee65a0192a3"
      },
      "source": [
        "# Create a plot for distribution of reviews for appearance\n",
        "plt.clf()\n",
        "plt.figure(figsize=(20,10))\n",
        "plt.style.use('classic')\n",
        "plt.hist(beer_df.review_appearance, bins=10)\n",
        "plt.title('Distribution of Appearance Reviews')\n",
        "plt.xlabel('Review')\n",
        "plt.ylabel('Count')\n",
        "plt.show()"
      ],
      "execution_count": null,
      "outputs": [
        {
          "output_type": "display_data",
          "data": {
            "application/vnd.jupyter.widget-view+json": {
              "model_id": "",
              "version_major": 2,
              "version_minor": 0
            },
            "text/plain": [
              "FloatProgress(value=0.0, bar_style='info', description='Progress:', layout=Layout(height='25px', width='50%'),…"
            ]
          },
          "metadata": {
            "tags": []
          }
        }
      ]
    },
    {
      "cell_type": "code",
      "metadata": {
        "colab": {
          "referenced_widgets": [
            ""
          ]
        },
        "id": "EhAYL1QofHvx",
        "outputId": "b8776df8-ee43-4b55-9684-6ab805e4d517"
      },
      "source": [
        "%matplot plt"
      ],
      "execution_count": null,
      "outputs": [
        {
          "output_type": "display_data",
          "data": {
            "application/vnd.jupyter.widget-view+json": {
              "model_id": "",
              "version_major": 2,
              "version_minor": 0
            },
            "text/plain": [
              "FloatProgress(value=0.0, bar_style='info', description='Progress:', layout=Layout(height='25px', width='50%'),…"
            ]
          },
          "metadata": {
            "tags": []
          }
        },
        {
          "output_type": "display_data",
          "data": {
            "image/png": "[encoded data removed]",
            "text/plain": [
              "<IPython.core.display.Image object>"
            ]
          },
          "metadata": {
            "tags": []
          }
        }
      ]
    },
    {
      "cell_type": "code",
      "metadata": {
        "colab": {
          "referenced_widgets": [
            ""
          ]
        },
        "id": "FkNIrznvfHvy",
        "outputId": "f2f540e9-8d0c-4d17-f791-f2875ea375eb"
      },
      "source": [
        "# Create a plot for distribution of reviews for palate\n",
        "plt.clf()\n",
        "plt.figure(figsize=(20,10))\n",
        "plt.style.use('classic')\n",
        "plt.hist(beer_df.review_palate, bins=10)\n",
        "plt.title('Distribution of Palate Reviews')\n",
        "plt.xlabel('Review')\n",
        "plt.ylabel('Count')\n",
        "plt.show()"
      ],
      "execution_count": null,
      "outputs": [
        {
          "output_type": "display_data",
          "data": {
            "application/vnd.jupyter.widget-view+json": {
              "model_id": "",
              "version_major": 2,
              "version_minor": 0
            },
            "text/plain": [
              "FloatProgress(value=0.0, bar_style='info', description='Progress:', layout=Layout(height='25px', width='50%'),…"
            ]
          },
          "metadata": {
            "tags": []
          }
        }
      ]
    },
    {
      "cell_type": "code",
      "metadata": {
        "colab": {
          "referenced_widgets": [
            ""
          ]
        },
        "id": "Imts63QOfHvy",
        "outputId": "8b37114e-eb0f-4dd5-e8e8-22a3e24f8265"
      },
      "source": [
        "%matplot plt"
      ],
      "execution_count": null,
      "outputs": [
        {
          "output_type": "display_data",
          "data": {
            "application/vnd.jupyter.widget-view+json": {
              "model_id": "",
              "version_major": 2,
              "version_minor": 0
            },
            "text/plain": [
              "FloatProgress(value=0.0, bar_style='info', description='Progress:', layout=Layout(height='25px', width='50%'),…"
            ]
          },
          "metadata": {
            "tags": []
          }
        },
        {
          "output_type": "display_data",
          "data": {
            "image/png": "[encoded data removed]",
            "text/plain": [
              "<IPython.core.display.Image object>"
            ]
          },
          "metadata": {
            "tags": []
          }
        }
      ]
    },
    {
      "cell_type": "code",
      "metadata": {
        "colab": {
          "referenced_widgets": [
            ""
          ]
        },
        "id": "xLroZv8qfHvz",
        "outputId": "5f465430-9fec-4083-8b03-a5a06e94f83b"
      },
      "source": [
        "# Create a plot for distribution of reviews for taste\n",
        "plt.clf()\n",
        "plt.figure(figsize=(20,10))\n",
        "plt.style.use('classic')\n",
        "plt.hist(beer_df.review_taste, bins=10)\n",
        "plt.title('Distribution of Taste Reviews')\n",
        "plt.xlabel('Review')\n",
        "plt.ylabel('Count')\n",
        "plt.show()"
      ],
      "execution_count": null,
      "outputs": [
        {
          "output_type": "display_data",
          "data": {
            "application/vnd.jupyter.widget-view+json": {
              "model_id": "",
              "version_major": 2,
              "version_minor": 0
            },
            "text/plain": [
              "FloatProgress(value=0.0, bar_style='info', description='Progress:', layout=Layout(height='25px', width='50%'),…"
            ]
          },
          "metadata": {
            "tags": []
          }
        }
      ]
    },
    {
      "cell_type": "code",
      "metadata": {
        "colab": {
          "referenced_widgets": [
            ""
          ]
        },
        "id": "aqccW8FGfHvz",
        "outputId": "f6e16989-c8d1-42fe-ecd2-9430821e188c"
      },
      "source": [
        "%matplot plt"
      ],
      "execution_count": null,
      "outputs": [
        {
          "output_type": "display_data",
          "data": {
            "application/vnd.jupyter.widget-view+json": {
              "model_id": "",
              "version_major": 2,
              "version_minor": 0
            },
            "text/plain": [
              "FloatProgress(value=0.0, bar_style='info', description='Progress:', layout=Layout(height='25px', width='50%'),…"
            ]
          },
          "metadata": {
            "tags": []
          }
        },
        {
          "output_type": "display_data",
          "data": {
            "image/png": "[encoded data removed]",
            "text/plain": [
              "<IPython.core.display.Image object>"
            ]
          },
          "metadata": {
            "tags": []
          }
        }
      ]
    },
    {
      "cell_type": "code",
      "metadata": {
        "colab": {
          "referenced_widgets": [
            ""
          ]
        },
        "id": "bSdaKXiUfHvz",
        "outputId": "86e2a76e-a247-40ad-9b99-dd8560726da6"
      },
      "source": [
        "# Finally, show distribution of ABV for the beers in the dataset\n",
        "plt.clf()\n",
        "plt.figure(figsize=(20,10))\n",
        "plt.style.use('classic')\n",
        "plt.hist(beer_df.beer_abv, bins=20)\n",
        "plt.title('Distribution of ABV')\n",
        "plt.xlabel('ABV')\n",
        "plt.ylabel('Count')\n",
        "plt.show()"
      ],
      "execution_count": null,
      "outputs": [
        {
          "output_type": "display_data",
          "data": {
            "application/vnd.jupyter.widget-view+json": {
              "model_id": "",
              "version_major": 2,
              "version_minor": 0
            },
            "text/plain": [
              "FloatProgress(value=0.0, bar_style='info', description='Progress:', layout=Layout(height='25px', width='50%'),…"
            ]
          },
          "metadata": {
            "tags": []
          }
        },
        {
          "output_type": "stream",
          "text": [
            "/usr/local/lib64/python3.7/site-packages/numpy/lib/histograms.py:824: RuntimeWarning: invalid value encountered in greater_equal\n",
            "  keep = (tmp_a >= first_edge)\n",
            "/usr/local/lib64/python3.7/site-packages/numpy/lib/histograms.py:825: RuntimeWarning: invalid value encountered in less_equal\n",
            "  keep &= (tmp_a <= last_edge)"
          ],
          "name": "stdout"
        }
      ]
    },
    {
      "cell_type": "code",
      "metadata": {
        "colab": {
          "referenced_widgets": [
            ""
          ]
        },
        "id": "rRV0KUXmfHv0",
        "outputId": "e1d47666-7c66-4e8e-d58d-8d9774b86799"
      },
      "source": [
        "%matplot plt"
      ],
      "execution_count": null,
      "outputs": [
        {
          "output_type": "display_data",
          "data": {
            "application/vnd.jupyter.widget-view+json": {
              "model_id": "",
              "version_major": 2,
              "version_minor": 0
            },
            "text/plain": [
              "FloatProgress(value=0.0, bar_style='info', description='Progress:', layout=Layout(height='25px', width='50%'),…"
            ]
          },
          "metadata": {
            "tags": []
          }
        },
        {
          "output_type": "display_data",
          "data": {
            "image/png": "[encoded data removed]",
            "text/plain": [
              "<IPython.core.display.Image object>"
            ]
          },
          "metadata": {
            "tags": []
          }
        }
      ]
    },
    {
      "cell_type": "markdown",
      "metadata": {
        "id": "GRiZq7a8fHv0"
      },
      "source": [
        "Correlations between different types of reviews"
      ]
    },
    {
      "cell_type": "code",
      "metadata": {
        "colab": {
          "referenced_widgets": [
            ""
          ]
        },
        "id": "l6NXhxI_fHv0",
        "outputId": "1ff9f56d-5df1-44d0-9d9a-66cd1b3ca9eb"
      },
      "source": [
        "beer_corr = beer_df[['review_aroma', 'review_appearance', 'review_overall', 'review_palate', 'review_taste']]\n",
        "beer_corr.corr()"
      ],
      "execution_count": null,
      "outputs": [
        {
          "output_type": "display_data",
          "data": {
            "application/vnd.jupyter.widget-view+json": {
              "model_id": "",
              "version_major": 2,
              "version_minor": 0
            },
            "text/plain": [
              "FloatProgress(value=0.0, bar_style='info', description='Progress:', layout=Layout(height='25px', width='50%'),…"
            ]
          },
          "metadata": {
            "tags": []
          }
        },
        {
          "output_type": "stream",
          "text": [
            "                   review_aroma  review_appearance  ...  review_palate  review_taste\n",
            "review_aroma           1.000000           0.561008  ...       0.616937      0.716769\n",
            "review_appearance      0.561008           1.000000  ...       0.566647      0.546980\n",
            "review_overall         0.615986           0.501723  ...       0.701900      0.789798\n",
            "review_palate          0.616937           0.566647  ...       1.000000      0.734122\n",
            "review_taste           0.716769           0.546980  ...       0.734122      1.000000\n",
            "\n",
            "[5 rows x 5 columns]"
          ],
          "name": "stdout"
        }
      ]
    },
    {
      "cell_type": "code",
      "metadata": {
        "colab": {
          "referenced_widgets": [
            ""
          ]
        },
        "id": "MV24f9kzfHv1",
        "outputId": "d834c666-3467-4ef8-bd1f-9aa00d4b6bcd"
      },
      "source": [
        "# heatmap for correlations between different review types\n",
        "plt.clf()\n",
        "cm = np.corrcoef(beer_corr.values.T)\n",
        "cols = ['review_aroma', 'review_appearance', 'review_overall', 'review_palate', 'review_taste']\n",
        "sns.set(font_scale=0.8)\n",
        "sns.heatmap(cm,                \n",
        "                 cbar=True,       \n",
        "                 annot=True,        \n",
        "                 square=True,     \n",
        "                 fmt='.2f',         \n",
        "                 annot_kws={'size': 10},\n",
        "                 yticklabels=cols,  \n",
        "                 xticklabels=cols)"
      ],
      "execution_count": null,
      "outputs": [
        {
          "output_type": "display_data",
          "data": {
            "application/vnd.jupyter.widget-view+json": {
              "model_id": "",
              "version_major": 2,
              "version_minor": 0
            },
            "text/plain": [
              "FloatProgress(value=0.0, bar_style='info', description='Progress:', layout=Layout(height='25px', width='50%'),…"
            ]
          },
          "metadata": {
            "tags": []
          }
        },
        {
          "output_type": "stream",
          "text": [
            "<AxesSubplot:>"
          ],
          "name": "stdout"
        }
      ]
    },
    {
      "cell_type": "code",
      "metadata": {
        "colab": {
          "referenced_widgets": [
            ""
          ]
        },
        "id": "DLQsmDBcfHv1",
        "outputId": "4eb4d004-1c98-494d-9e22-eb2cadf6da99"
      },
      "source": [
        "%matplot plt"
      ],
      "execution_count": null,
      "outputs": [
        {
          "output_type": "display_data",
          "data": {
            "application/vnd.jupyter.widget-view+json": {
              "model_id": "",
              "version_major": 2,
              "version_minor": 0
            },
            "text/plain": [
              "FloatProgress(value=0.0, bar_style='info', description='Progress:', layout=Layout(height='25px', width='50%'),…"
            ]
          },
          "metadata": {
            "tags": []
          }
        },
        {
          "output_type": "display_data",
          "data": {
            "image/png": "[encoded data removed]",
            "text/plain": [
              "<IPython.core.display.Image object>"
            ]
          },
          "metadata": {
            "tags": []
          }
        }
      ]
    },
    {
      "cell_type": "markdown",
      "metadata": {
        "id": "32zk8fHXfHv2"
      },
      "source": [
        "Recommendation System using ALS from Mllib"
      ]
    },
    {
      "cell_type": "code",
      "metadata": {
        "colab": {
          "referenced_widgets": [
            ""
          ]
        },
        "id": "uS06zBibfHv2",
        "outputId": "a196cc01-6b03-4639-a064-67ed00eb6b6b"
      },
      "source": [
        "# recommendation engine using ALS\n",
        "# https://spark.apache.org/docs/2.2.0/api/python/pyspark.ml.html#pyspark.ml.recommendation.ALS\n",
        "from pyspark.ml.recommendation import ALS"
      ],
      "execution_count": null,
      "outputs": [
        {
          "output_type": "display_data",
          "data": {
            "application/vnd.jupyter.widget-view+json": {
              "model_id": "",
              "version_major": 2,
              "version_minor": 0
            },
            "text/plain": [
              "FloatProgress(value=0.0, bar_style='info', description='Progress:', layout=Layout(height='25px', width='50%'),…"
            ]
          },
          "metadata": {
            "tags": []
          }
        }
      ]
    },
    {
      "cell_type": "code",
      "metadata": {
        "colab": {
          "referenced_widgets": [
            ""
          ]
        },
        "id": "MZFOZlQIfHv2",
        "outputId": "5d46b8a3-c217-484e-d18a-ddde0607d352"
      },
      "source": [
        "# ALS requires that the userCol be an integer, but we currently have unique identifiers that are strings.\n",
        "# solution: use string indexer from spark mllib to create a unique id for each user name\n",
        "# https://spark.apache.org/docs/latest/ml-features.html#stringindexer \n",
        "from pyspark.ml.feature import StringIndexer\n",
        "\n",
        "indexer = StringIndexer(inputCol=\"review_profilename\", outputCol=\"user_id\")\n",
        "# set setHandleInvalid to skip to avoid errors for nulls\n",
        "beer = indexer.setHandleInvalid(\"skip\").fit(beer).transform(beer)"
      ],
      "execution_count": null,
      "outputs": [
        {
          "output_type": "display_data",
          "data": {
            "application/vnd.jupyter.widget-view+json": {
              "model_id": "",
              "version_major": 2,
              "version_minor": 0
            },
            "text/plain": [
              "FloatProgress(value=0.0, bar_style='info', description='Progress:', layout=Layout(height='25px', width='50%'),…"
            ]
          },
          "metadata": {
            "tags": []
          }
        }
      ]
    },
    {
      "cell_type": "code",
      "metadata": {
        "colab": {
          "referenced_widgets": [
            ""
          ]
        },
        "id": "e22etiOJfHv3",
        "outputId": "4861184c-cc18-4040-cbe4-e484791aa450"
      },
      "source": [
        "# split our data into training and test\n",
        "(training, test) = beer.randomSplit([0.8, 0.2])"
      ],
      "execution_count": null,
      "outputs": [
        {
          "output_type": "display_data",
          "data": {
            "application/vnd.jupyter.widget-view+json": {
              "model_id": "",
              "version_major": 2,
              "version_minor": 0
            },
            "text/plain": [
              "FloatProgress(value=0.0, bar_style='info', description='Progress:', layout=Layout(height='25px', width='50%'),…"
            ]
          },
          "metadata": {
            "tags": []
          }
        }
      ]
    },
    {
      "cell_type": "code",
      "metadata": {
        "colab": {
          "referenced_widgets": [
            ""
          ]
        },
        "id": "BUzSL9T4fHv3",
        "outputId": "54fd6e46-4b46-49de-f402-a492636413f0"
      },
      "source": [
        "# Import the required functions\n",
        "from pyspark.ml.evaluation import RegressionEvaluator\n",
        "from pyspark.ml.recommendation import ALS\n",
        "\n",
        "als = ALS(\n",
        "    # the users are represented by the column review_profilename\n",
        "         userCol=\"user_id\", \n",
        "    # the items we are recommending are in the beer_name column\n",
        "         itemCol=\"beer_beerid\",\n",
        "    # we will use the overall review to make the predictions\n",
        "         ratingCol=\"review_overall\", \n",
        "    # the preferences are explicit (i.e. a user explictly rated beer X as Y)\n",
        "         implicitPrefs = False, \n",
        "    # drop rows with NA values\n",
        "    coldStartStrategy=\"drop\")"
      ],
      "execution_count": null,
      "outputs": [
        {
          "output_type": "display_data",
          "data": {
            "application/vnd.jupyter.widget-view+json": {
              "model_id": "",
              "version_major": 2,
              "version_minor": 0
            },
            "text/plain": [
              "FloatProgress(value=0.0, bar_style='info', description='Progress:', layout=Layout(height='25px', width='50%'),…"
            ]
          },
          "metadata": {
            "tags": []
          }
        }
      ]
    },
    {
      "cell_type": "code",
      "metadata": {
        "colab": {
          "referenced_widgets": [
            ""
          ]
        },
        "id": "bojOuOBJfHv4",
        "outputId": "9f6720ba-bc00-4e54-e49d-e1b99003bf41"
      },
      "source": [
        "# define evaluator as RMSE\n",
        "# we want to use RMSE to compare our predicted ratings for a user to their actual rating\n",
        "\n",
        "evaluator = RegressionEvaluator(\n",
        "           metricName=\"rmse\", \n",
        "           labelCol=\"review_overall\", \n",
        "           predictionCol=\"prediction\")"
      ],
      "execution_count": null,
      "outputs": [
        {
          "output_type": "display_data",
          "data": {
            "application/vnd.jupyter.widget-view+json": {
              "model_id": "",
              "version_major": 2,
              "version_minor": 0
            },
            "text/plain": [
              "FloatProgress(value=0.0, bar_style='info', description='Progress:', layout=Layout(height='25px', width='50%'),…"
            ]
          },
          "metadata": {
            "tags": []
          }
        }
      ]
    },
    {
      "cell_type": "code",
      "metadata": {
        "colab": {
          "referenced_widgets": [
            ""
          ]
        },
        "id": "RiFE3aUYfHv4",
        "outputId": "8d0feb9f-3c0f-4ae1-e204-ef4bfe231ad1"
      },
      "source": [
        "# fit the model to the training data\n",
        "model = als.fit(training)"
      ],
      "execution_count": null,
      "outputs": [
        {
          "output_type": "display_data",
          "data": {
            "application/vnd.jupyter.widget-view+json": {
              "model_id": "",
              "version_major": 2,
              "version_minor": 0
            },
            "text/plain": [
              "FloatProgress(value=0.0, bar_style='info', description='Progress:', layout=Layout(height='25px', width='50%'),…"
            ]
          },
          "metadata": {
            "tags": []
          }
        }
      ]
    },
    {
      "cell_type": "code",
      "metadata": {
        "colab": {
          "referenced_widgets": [
            ""
          ]
        },
        "id": "L-kHbCJ-fHv5",
        "outputId": "4ae19d16-c25d-41eb-91ce-0a7f563777d1"
      },
      "source": [
        "# use our model to  make predictions for the test data\n",
        "test_predictions = model.transform(test)"
      ],
      "execution_count": null,
      "outputs": [
        {
          "output_type": "display_data",
          "data": {
            "application/vnd.jupyter.widget-view+json": {
              "model_id": "",
              "version_major": 2,
              "version_minor": 0
            },
            "text/plain": [
              "FloatProgress(value=0.0, bar_style='info', description='Progress:', layout=Layout(height='25px', width='50%'),…"
            ]
          },
          "metadata": {
            "tags": []
          }
        }
      ]
    },
    {
      "cell_type": "code",
      "metadata": {
        "colab": {
          "referenced_widgets": [
            ""
          ]
        },
        "id": "20ICpQmRfHv5",
        "outputId": "2ccbb75c-ed25-43b8-86d1-f4e12ccf4cb0"
      },
      "source": [
        "# let's take a look at some of the predictions our model made\n",
        "test_predictions.select(['review_profilename', 'review_overall', 'beer_name', 'prediction']).show(n=10)"
      ],
      "execution_count": null,
      "outputs": [
        {
          "output_type": "display_data",
          "data": {
            "application/vnd.jupyter.widget-view+json": {
              "model_id": "",
              "version_major": 2,
              "version_minor": 0
            },
            "text/plain": [
              "FloatProgress(value=0.0, bar_style='info', description='Progress:', layout=Layout(height='25px', width='50%'),…"
            ]
          },
          "metadata": {
            "tags": []
          }
        },
        {
          "output_type": "stream",
          "text": [
            "+------------------+--------------+--------------------+----------+\n",
            "|review_profilename|review_overall|           beer_name|prediction|\n",
            "+------------------+--------------+--------------------+----------+\n",
            "|        jarmby1711|           3.5|     Pilsner Urquell| 3.5362632|\n",
            "|            Buebie|           4.0|                Brrr|  3.714517|\n",
            "|         beertunes|           3.5|Cherry Oak Doppel...| 3.3907247|\n",
            "|         beertunes|           4.0|     Pitch Black IPA| 3.6501386|\n",
            "|            Buebie|           3.0|                Okto| 3.3800929|\n",
            "|         beertunes|           4.0|W'11 (KGB Imperia...| 3.4392614|\n",
            "|         beertunes|           3.5| Nelson Imperial IPA|  3.595857|\n",
            "|            Buebie|           4.0|Citra Summer Blon...| 3.6167002|\n",
            "|        CortexBomb|           4.0|  Blanche De Chambly|  3.619169|\n",
            "|        CortexBomb|           4.0|        Édition 2005| 3.6346753|\n",
            "+------------------+--------------+--------------------+----------+\n",
            "only showing top 10 rows"
          ],
          "name": "stdout"
        }
      ]
    },
    {
      "cell_type": "code",
      "metadata": {
        "colab": {
          "referenced_widgets": [
            ""
          ]
        },
        "id": "uWo09ucRfHv5",
        "outputId": "f3e332b7-0828-466a-b17e-352b04f60537"
      },
      "source": [
        "# it appears that the predictions are not too far from the true rating.  We can calculate the RMSE for the test data\n",
        "rmse = evaluator.evaluate(test_predictions)\n",
        "print('Root-mean-square error = ' + str(rmse))"
      ],
      "execution_count": null,
      "outputs": [
        {
          "output_type": "display_data",
          "data": {
            "application/vnd.jupyter.widget-view+json": {
              "model_id": "",
              "version_major": 2,
              "version_minor": 0
            },
            "text/plain": [
              "FloatProgress(value=0.0, bar_style='info', description='Progress:', layout=Layout(height='25px', width='50%'),…"
            ]
          },
          "metadata": {
            "tags": []
          }
        },
        {
          "output_type": "stream",
          "text": [
            "Root-mean-square error = 0.5488080353933126"
          ],
          "name": "stdout"
        }
      ]
    },
    {
      "cell_type": "markdown",
      "metadata": {
        "id": "2TMgJ55UfHv6"
      },
      "source": [
        "The RMSE for this model is 0.55, meaning that on average, the difference between the actual rating and the prediction is 0.55."
      ]
    },
    {
      "cell_type": "code",
      "metadata": {
        "colab": {
          "referenced_widgets": [
            ""
          ]
        },
        "id": "uZYlLWKtfHv6",
        "outputId": "9bef2098-e65b-4f34-8e14-27eb6a849db5"
      },
      "source": [
        "# now we can use the model to make recommendations for each user.  We can start by making 3 recommendations for each user\n",
        "recommendations = model.recommendForAllUsers(numItems = 3)\n",
        "recommendations.show(5)"
      ],
      "execution_count": null,
      "outputs": [
        {
          "output_type": "display_data",
          "data": {
            "application/vnd.jupyter.widget-view+json": {
              "model_id": "",
              "version_major": 2,
              "version_minor": 0
            },
            "text/plain": [
              "FloatProgress(value=0.0, bar_style='info', description='Progress:', layout=Layout(height='25px', width='50%'),…"
            ]
          },
          "metadata": {
            "tags": []
          }
        },
        {
          "output_type": "stream",
          "text": [
            "+-------+--------------------+\n",
            "|user_id|     recommendations|\n",
            "+-------+--------------------+\n",
            "|     12|[[51494, 5.044155...|\n",
            "|     65|[[51494, 5.042790...|\n",
            "|     76|[[32744, 5.021610...|\n",
            "|     81|[[51494, 5.268062...|\n",
            "|    122|[[51494, 5.107185...|\n",
            "+-------+--------------------+\n",
            "only showing top 5 rows"
          ],
          "name": "stdout"
        }
      ]
    },
    {
      "cell_type": "code",
      "metadata": {
        "colab": {
          "referenced_widgets": [
            ""
          ]
        },
        "id": "a9mvBDl4fHv6",
        "outputId": "2240a6cb-2b32-4f31-f8e7-1b60439d54cd"
      },
      "source": [
        "# these ratings are not interpretable.  Let's convert it into an interpretable format\n",
        "# https://towardsdatascience.com/build-recommendation-system-with-pyspark-using-alternating-least-squares-als-matrix-factorisation-ebe1ad2e7679\n",
        "from pyspark.sql.functions import explode, col\n",
        "\n",
        "recommendations = recommendations\\\n",
        "    .withColumn(\"rec_exp\", explode(\"recommendations\"))\\\n",
        "    .select('user_id', col(\"rec_exp.beer_beerid\"), col(\"rec_exp.rating\"))\n",
        "\n",
        "recommendations.limit(10).show()"
      ],
      "execution_count": null,
      "outputs": [
        {
          "output_type": "display_data",
          "data": {
            "application/vnd.jupyter.widget-view+json": {
              "model_id": "",
              "version_major": 2,
              "version_minor": 0
            },
            "text/plain": [
              "FloatProgress(value=0.0, bar_style='info', description='Progress:', layout=Layout(height='25px', width='50%'),…"
            ]
          },
          "metadata": {
            "tags": []
          }
        },
        {
          "output_type": "stream",
          "text": [
            "+-------+-----------+---------+\n",
            "|user_id|beer_beerid|   rating|\n",
            "+-------+-----------+---------+\n",
            "|     12|      51494| 5.044155|\n",
            "|     12|      32744|5.0154595|\n",
            "|     12|      66841| 4.956703|\n",
            "|     65|      51494|5.0427904|\n",
            "|     65|      66841| 4.973891|\n",
            "|     65|      32744| 4.957638|\n",
            "|     76|      32744|5.0216107|\n",
            "|     76|      51494|4.9888606|\n",
            "|     76|      73376| 4.976244|\n",
            "|     81|      51494|5.2680626|\n",
            "+-------+-----------+---------+"
          ],
          "name": "stdout"
        }
      ]
    },
    {
      "cell_type": "code",
      "metadata": {
        "colab": {
          "referenced_widgets": [
            ""
          ]
        },
        "id": "ieV5zLvffHv7",
        "outputId": "36f10c5a-634a-43ca-c1dd-48cd7c55c85a"
      },
      "source": [
        "# register recommendations as a table\n",
        "recommendations.registerTempTable(\"recommendations\")"
      ],
      "execution_count": null,
      "outputs": [
        {
          "output_type": "display_data",
          "data": {
            "application/vnd.jupyter.widget-view+json": {
              "model_id": "",
              "version_major": 2,
              "version_minor": 0
            },
            "text/plain": [
              "FloatProgress(value=0.0, bar_style='info', description='Progress:', layout=Layout(height='25px', width='50%'),…"
            ]
          },
          "metadata": {
            "tags": []
          }
        }
      ]
    },
    {
      "cell_type": "code",
      "metadata": {
        "id": "9oOTZtZ4fHv7"
      },
      "source": [
        "# regiester predictions as a table\n",
        "test_predictions.registerTempTable(\"predictions\")"
      ],
      "execution_count": null,
      "outputs": []
    },
    {
      "cell_type": "code",
      "metadata": {
        "colab": {
          "referenced_widgets": [
            ""
          ]
        },
        "id": "ExNzJMrJfHv8",
        "outputId": "108bc2e5-fbfa-423a-f731-a6b45edeb9bc"
      },
      "source": [
        "# try joining recommendations with predictions to get the user name, beer name, etc.\n",
        "recommendations_expanded = sqlContext.sql(\"SELECT r.user_id, r.beer_beerid, r.rating, p.review_overall, p.beer_name, p.brewery_name FROM recommendations AS r JOIN predictions AS p on r.user_id = p.user_id\")"
      ],
      "execution_count": null,
      "outputs": [
        {
          "output_type": "display_data",
          "data": {
            "application/vnd.jupyter.widget-view+json": {
              "model_id": "",
              "version_major": 2,
              "version_minor": 0
            },
            "text/plain": [
              "FloatProgress(value=0.0, bar_style='info', description='Progress:', layout=Layout(height='25px', width='50%'),…"
            ]
          },
          "metadata": {
            "tags": []
          }
        }
      ]
    },
    {
      "cell_type": "code",
      "metadata": {
        "colab": {
          "referenced_widgets": [
            ""
          ]
        },
        "id": "m-DWYwRKfHv8",
        "outputId": "949b7dcc-44a4-4d73-9dfb-e4e75484f579"
      },
      "source": [
        "recommendations_expanded.registerTempTable('recommendations_expanded')"
      ],
      "execution_count": null,
      "outputs": [
        {
          "output_type": "display_data",
          "data": {
            "application/vnd.jupyter.widget-view+json": {
              "model_id": "",
              "version_major": 2,
              "version_minor": 0
            },
            "text/plain": [
              "FloatProgress(value=0.0, bar_style='info', description='Progress:', layout=Layout(height='25px', width='50%'),…"
            ]
          },
          "metadata": {
            "tags": []
          }
        }
      ]
    },
    {
      "cell_type": "code",
      "metadata": {
        "colab": {
          "referenced_widgets": [
            ""
          ]
        },
        "id": "N36D1JJCfHv8",
        "outputId": "491ae52d-00d2-48df-ce78-e1a1982defae"
      },
      "source": [
        "# let's compare the user's recommended beers to the beers they actually rated the highest\n",
        "\n",
        "# beers recommended by the system:\n",
        "user1 = sqlContext.sql(\"SELECT DISTINCT r.user_id, r.rating, b.brewery_name, b.beer_name FROM recommendations AS r JOIN beer AS b ON r.beer_beerid = b.beer_beerid WHERE r.user_id = 1 \")\n",
        "user1.show()"
      ],
      "execution_count": null,
      "outputs": [
        {
          "output_type": "display_data",
          "data": {
            "application/vnd.jupyter.widget-view+json": {
              "model_id": "",
              "version_major": 2,
              "version_minor": 0
            },
            "text/plain": [
              "FloatProgress(value=0.0, bar_style='info', description='Progress:', layout=Layout(height='25px', width='50%'),…"
            ]
          },
          "metadata": {
            "tags": []
          }
        },
        {
          "output_type": "stream",
          "text": [
            "+-------+---------+--------------------+--------------------+\n",
            "|user_id|   rating|        brewery_name|           beer_name|\n",
            "+-------+---------+--------------------+--------------------+\n",
            "|      1|5.1374626|Kuhnhenn Brewing ...|Kuhnhenn Pumpkin ...|\n",
            "|      1| 5.283623|Piece Brewery & P...| 8th Anniversary Ale|\n",
            "|      1|5.2134614|Triumph Brewing C...|           Snakebite|\n",
            "+-------+---------+--------------------+--------------------+"
          ],
          "name": "stdout"
        }
      ]
    },
    {
      "cell_type": "code",
      "metadata": {
        "colab": {
          "referenced_widgets": [
            ""
          ]
        },
        "id": "GspVFBXXfHwA",
        "outputId": "cc67ca12-5228-46ed-c01b-3ee6fdd0447c"
      },
      "source": [
        "# user1's actual favorite beers:\n",
        "user1_favorites = sqlContext.sql(\"SELECT DISTINCT user_id, review_overall, brewery_name, beer_name FROM recommendations_expanded WHERE user_id = 1 ORDER BY review_overall DESC\")"
      ],
      "execution_count": null,
      "outputs": [
        {
          "output_type": "display_data",
          "data": {
            "application/vnd.jupyter.widget-view+json": {
              "model_id": "",
              "version_major": 2,
              "version_minor": 0
            },
            "text/plain": [
              "FloatProgress(value=0.0, bar_style='info', description='Progress:', layout=Layout(height='25px', width='50%'),…"
            ]
          },
          "metadata": {
            "tags": []
          }
        }
      ]
    },
    {
      "cell_type": "code",
      "metadata": {
        "colab": {
          "referenced_widgets": [
            ""
          ]
        },
        "id": "aht2bYb7fHwA",
        "outputId": "7cbcda6b-25e9-405f-cb1b-4c5ad4124e6c"
      },
      "source": [
        "user1_favorites.limit(5).show()"
      ],
      "execution_count": null,
      "outputs": [
        {
          "output_type": "display_data",
          "data": {
            "application/vnd.jupyter.widget-view+json": {
              "model_id": "",
              "version_major": 2,
              "version_minor": 0
            },
            "text/plain": [
              "FloatProgress(value=0.0, bar_style='info', description='Progress:', layout=Layout(height='25px', width='50%'),…"
            ]
          },
          "metadata": {
            "tags": []
          }
        },
        {
          "output_type": "stream",
          "text": [
            "+-------+--------------+--------------------+--------------------+\n",
            "|user_id|review_overall|        brewery_name|           beer_name|\n",
            "+-------+--------------+--------------------+--------------------+\n",
            "|      1|           5.0|Bell's Brewery, Inc.|     Two Hearted Ale|\n",
            "|      1|           5.0|Ballast Point Bre...|Sculpin India Pal...|\n",
            "|      1|           5.0| Brouwerij Het Anker|Gouden Carolus Tr...|\n",
            "|      1|           5.0|Brouwerij St. Ber...|        Watou Tripel|\n",
            "|      1|           5.0|Browar Okocim S.A...|       Okocim Porter|\n",
            "+-------+--------------+--------------------+--------------------+"
          ],
          "name": "stdout"
        }
      ]
    },
    {
      "cell_type": "code",
      "metadata": {
        "colab": {
          "referenced_widgets": [
            ""
          ]
        },
        "id": "GPijn2B-fHwB",
        "outputId": "4cddf9d1-61c0-4c48-8166-2a1749e4e6ba"
      },
      "source": [
        "# You can also recommend top users for different beers.  This could be useful for a marketing campaign\n",
        "user_recommendations = model.recommendForAllItems(10)"
      ],
      "execution_count": null,
      "outputs": [
        {
          "output_type": "display_data",
          "data": {
            "application/vnd.jupyter.widget-view+json": {
              "model_id": "",
              "version_major": 2,
              "version_minor": 0
            },
            "text/plain": [
              "FloatProgress(value=0.0, bar_style='info', description='Progress:', layout=Layout(height='25px', width='50%'),…"
            ]
          },
          "metadata": {
            "tags": []
          }
        }
      ]
    },
    {
      "cell_type": "code",
      "metadata": {
        "colab": {
          "referenced_widgets": [
            ""
          ]
        },
        "id": "uG9Mc89AfHwB",
        "outputId": "57630040-01bf-42ab-d995-d818abf489d0"
      },
      "source": [
        "user_recommendations.printSchema()"
      ],
      "execution_count": null,
      "outputs": [
        {
          "output_type": "display_data",
          "data": {
            "application/vnd.jupyter.widget-view+json": {
              "model_id": "",
              "version_major": 2,
              "version_minor": 0
            },
            "text/plain": [
              "FloatProgress(value=0.0, bar_style='info', description='Progress:', layout=Layout(height='25px', width='50%'),…"
            ]
          },
          "metadata": {
            "tags": []
          }
        },
        {
          "output_type": "stream",
          "text": [
            "root\n",
            " |-- beer_beerid: integer (nullable = false)\n",
            " |-- recommendations: array (nullable = true)\n",
            " |    |-- element: struct (containsNull = true)\n",
            " |    |    |-- user_id: integer (nullable = true)\n",
            " |    |    |-- rating: float (nullable = true)"
          ],
          "name": "stdout"
        }
      ]
    },
    {
      "cell_type": "code",
      "metadata": {
        "colab": {
          "referenced_widgets": [
            ""
          ]
        },
        "id": "09eDCSBwfHwB",
        "outputId": "744785d4-6fc3-44bb-8f34-6f75a7636d29"
      },
      "source": [
        "# view the recommended users for each beer:\n",
        "user_recommendations = user_recommendations\\\n",
        "    .withColumn(\"rec_exp\", explode(\"recommendations\"))\\\n",
        "    .select('beer_beerid', col(\"rec_exp.user_id\"), col(\"rec_exp.rating\"))\n",
        "\n",
        "user_recommendations.limit(10).show()"
      ],
      "execution_count": null,
      "outputs": [
        {
          "output_type": "display_data",
          "data": {
            "application/vnd.jupyter.widget-view+json": {
              "model_id": "",
              "version_major": 2,
              "version_minor": 0
            },
            "text/plain": [
              "FloatProgress(value=0.0, bar_style='info', description='Progress:', layout=Layout(height='25px', width='50%'),…"
            ]
          },
          "metadata": {
            "tags": []
          }
        },
        {
          "output_type": "stream",
          "text": [
            "+-----------+-------+---------+\n",
            "|beer_beerid|user_id|   rating|\n",
            "+-----------+-------+---------+\n",
            "|          3|  32811|6.4502797|\n",
            "|          3|  17463|5.7543173|\n",
            "|          3|  23615|5.7270265|\n",
            "|          3|  19200|5.7216086|\n",
            "|          3|  31975| 5.656811|\n",
            "|          3|  23446| 5.656811|\n",
            "|          3|  25128| 5.580295|\n",
            "|          3|  30897| 5.529418|\n",
            "|          3|  22372|5.5293846|\n",
            "|          3|  32421|5.5252585|\n",
            "+-----------+-------+---------+"
          ],
          "name": "stdout"
        }
      ]
    }
  ]
}